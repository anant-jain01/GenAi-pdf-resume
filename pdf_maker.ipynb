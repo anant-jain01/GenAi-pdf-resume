{
  "nbformat": 4,
  "nbformat_minor": 0,
  "metadata": {
    "colab": {
      "provenance": [],
      "authorship_tag": "ABX9TyNgON/q9c6OLX50kUl7pBtb",
      "include_colab_link": true
    },
    "kernelspec": {
      "name": "python3",
      "display_name": "Python 3"
    },
    "language_info": {
      "name": "python"
    }
  },
  "cells": [
    {
      "cell_type": "markdown",
      "metadata": {
        "id": "view-in-github",
        "colab_type": "text"
      },
      "source": [
        "<a href=\"https://colab.research.google.com/github/anant-jain01/GenAi-pdf-resume/blob/main/pdf_maker.ipynb\" target=\"_parent\"><img src=\"https://colab.research.google.com/assets/colab-badge.svg\" alt=\"Open In Colab\"/></a>"
      ]
    },
    {
      "cell_type": "code",
      "source": [
        "import ipywidgets as widgets\n",
        "from IPython.display import display, clear_output\n",
        "from jinja2 import Template\n",
        "from weasyprint import HTML"
      ],
      "metadata": {
        "id": "b-6HhpixR5Ju"
      },
      "execution_count": null,
      "outputs": []
    },
    {
      "cell_type": "code",
      "source": [
        "name_input = widgets.Text(description=\"Name:\")\n",
        "email_input = widgets.Text(description=\"Email:\")\n",
        "phone_input = widgets.Text(description=\"Phone:\")\n",
        "summary_input = widgets.Textarea(description=\"Summary:\", layout=widgets.Layout(width='100%', height='80px'))"
      ],
      "metadata": {
        "id": "Zgqq8sujST8W"
      },
      "execution_count": null,
      "outputs": []
    },
    {
      "cell_type": "code",
      "source": [
        "education_entries = []\n",
        "experience_entries = []\n",
        "skills_entries = []"
      ],
      "metadata": {
        "id": "9nIWmd71Sd7h"
      },
      "execution_count": null,
      "outputs": []
    },
    {
      "cell_type": "code",
      "source": [
        "edu_box = widgets.VBox()\n",
        "def add_education_entry(_=None):\n",
        "    degree = widgets.Text(description=\"Degree:\")\n",
        "    institute = widgets.Text(description=\"Institute:\")\n",
        "    year = widgets.Text(description=\"Year:\")\n",
        "    box = widgets.VBox([degree, institute, year])\n",
        "    education_entries.append((degree, institute, year))\n",
        "    edu_box.children += (box,)\n",
        "\n",
        "add_edu_btn = widgets.Button(description=\"Add Education\")\n",
        "add_edu_btn.on_click(add_education_entry)\n",
        "add_education_entry()"
      ],
      "metadata": {
        "id": "D_3kJmzCSg7L"
      },
      "execution_count": null,
      "outputs": []
    },
    {
      "cell_type": "code",
      "source": [
        "exp_box = widgets.VBox()\n",
        "def add_experience_entry(_=None):\n",
        "    title = widgets.Text(description=\"Title:\")\n",
        "    company = widgets.Text(description=\"Company:\")\n",
        "    duration = widgets.Text(description=\"Duration:\")\n",
        "    desc = widgets.Textarea(description=\"Description:\", layout=widgets.Layout(width='100%', height='60px'))\n",
        "    box = widgets.VBox([title, company, duration, desc])\n",
        "    experience_entries.append((title, company, duration, desc))\n",
        "    exp_box.children += (box,)\n",
        "\n",
        "add_exp_btn = widgets.Button(description=\"Add Experience\")\n",
        "add_exp_btn.on_click(add_experience_entry)\n",
        "add_experience_entry()"
      ],
      "metadata": {
        "id": "ii2_qdsJSkaH"
      },
      "execution_count": null,
      "outputs": []
    },
    {
      "cell_type": "code",
      "source": [
        "skills_box = widgets.VBox()\n",
        "def add_skill_entry(_=None):\n",
        "    skill = widgets.Text(description=\"Skill:\")\n",
        "    skills_entries.append(skill)\n",
        "    skills_box.children += (skill,)\n",
        "\n",
        "add_skill_btn = widgets.Button(description=\"Add Skill\")\n",
        "add_skill_btn.on_click(add_skill_entry)\n",
        "add_skill_entry()\n",
        "submit_button = widgets.Button(description=\"Generate Resume PDF\", button_style='success')\n",
        "output = widgets.Output()\n"
      ],
      "metadata": {
        "id": "bZMd1R-CSoMc"
      },
      "execution_count": null,
      "outputs": []
    },
    {
      "cell_type": "code",
      "source": [
        "def on_submit(_):\n",
        "    with output:\n",
        "        clear_output()\n",
        "        name = name_input.value\n",
        "        email = email_input.value\n",
        "        phone = phone_input.value\n",
        "        summary = summary_input.value\n",
        "        education = [{\"degree\": d.value, \"institute\": i.value, \"year\": y.value} for d,i,y in education_entries]\n",
        "        experience = [{\"title\": t.value, \"company\": c.value, \"duration\": dur.value, \"description\": desc.value} for t,c,dur,desc in experience_entries]\n",
        "        skills = [s.value for s in skills_entries]\n",
        "        template_str = \"\"\"\n",
        "        <html>\n",
        "        <head>\n",
        "        <style>\n",
        "        body { font-family: Arial; margin: 40px; }\n",
        "        h1, h2 { color: #2e6c80; margin-bottom: 0; }\n",
        "        .section { margin-top: 20px; }\n",
        "        .edu, .exp { margin-bottom: 10px; }\n",
        "        ul { padding-left: 20px; }\n",
        "        </style>\n",
        "        </head>\n",
        "        <body>\n",
        "        <h1>{{ name }}</h1>\n",
        "        <p>{{ email }} | {{ phone }}</p>\n",
        "        <div class=\"section\">\n",
        "            <h2>Summary</h2>\n",
        "            <p>{{ summary }}</p>\n",
        "        </div>\n",
        "        <div class=\"section\">\n",
        "            <h2>Education</h2>\n",
        "            {% for edu in education %}\n",
        "            <div class=\"edu\"><strong>{{ edu.degree }}</strong>, {{ edu.institute }} ({{ edu.year }})</div>\n",
        "            {% endfor %}\n",
        "        </div>\n",
        "        <div class=\"section\">\n",
        "            <h2>Experience</h2>\n",
        "            {% for exp in experience %}\n",
        "            <div class=\"exp\">\n",
        "                <strong>{{ exp.title }}</strong> at {{ exp.company }} ({{ exp.duration }})<br/>\n",
        "                <small>{{ exp.description }}</small>\n",
        "            </div>\n",
        "            {% endfor %}\n",
        "        </div>\n",
        "        <div class=\"section\">\n",
        "            <h2>Skills</h2>\n",
        "            <ul>\n",
        "            {% for skill in skills %}\n",
        "                <li>{{ skill }}</li>\n",
        "            {% endfor %}\n",
        "            </ul>\n",
        "        </div>\n",
        "        </body>\n",
        "        </html>\n",
        "        \"\"\"\n",
        "        template = Template(template_str)\n",
        "        rendered_html = template.render(\n",
        "            name=name,\n",
        "            email=email,\n",
        "            phone=phone,\n",
        "            summary=summary,\n",
        "            education=education,\n",
        "            experience=experience,\n",
        "            skills=skills\n",
        "        )\n",
        "\n",
        "        HTML(string=rendered_html).write_pdf(\"resume.pdf\")\n",
        "        print(\"✅ Resume PDF generated: resume.pdf\")\n",
        "\n",
        "submit_button.on_click(on_submit)"
      ],
      "metadata": {
        "id": "FlI_fHsSSr7X"
      },
      "execution_count": null,
      "outputs": []
    },
    {
      "cell_type": "code",
      "source": [
        "display(\n",
        "    widgets.VBox([\n",
        "        widgets.Label(\"📄 Resume Generator\"),\n",
        "        name_input,\n",
        "        email_input,\n",
        "        phone_input,\n",
        "        summary_input,\n",
        "        widgets.Label(\"🎓 Education\"), edu_box, add_edu_btn,\n",
        "        widgets.Label(\"💼 Experience\"), exp_box, add_exp_btn,\n",
        "        widgets.Label(\"🛠️ Skills\"), skills_box, add_skill_btn,\n",
        "        submit_button,\n",
        "        output\n",
        "    ])\n",
        ")"
      ],
      "metadata": {
        "id": "z52Y__CiS1mn"
      },
      "execution_count": null,
      "outputs": []
    },
    {
      "cell_type": "code",
      "source": [],
      "metadata": {
        "id": "Aab2UEELS5OA"
      },
      "execution_count": null,
      "outputs": []
    }
  ]
}